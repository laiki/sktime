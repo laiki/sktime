{
 "cells": [
  {
   "cell_type": "markdown",
   "metadata": {},
   "source": [
    "# Feature extraction with tsfresh transformer\n",
    "\n",
    "In this tutorial, we show how you can use sktime with [tsfresh](https://tsfresh.readthedocs.io) to first extract features from time series, so that we can then use any scikit-learn estimator.\n",
    "\n",
    "## Preliminaries\n",
    "You have to install tsfresh if you haven't already. To install it, uncomment the cell below:"
   ]
  },
  {
   "cell_type": "code",
   "execution_count": 1,
   "metadata": {},
   "outputs": [],
   "source": [
    "# !pip install --upgrade tsfresh"
   ]
  },
  {
   "cell_type": "code",
   "execution_count": 2,
   "metadata": {},
   "outputs": [],
   "source": [
    "import numpy as np\n",
    "from sklearn.model_selection import train_test_split\n",
    "from sklearn.ensemble import RandomForestClassifier\n",
    "from sklearn.pipeline import make_pipeline\n",
    "from sktime.datasets import load_basic_motions\n",
    "from sktime.datasets import load_arrow_head\n",
    "from sktime.transformers.series_as_features.summarize import \\\n",
    "    TSFreshFeatureExtractor"
   ]
  },
  {
   "cell_type": "markdown",
   "metadata": {},
   "source": [
    "## Univariate time series classification data\n",
    "\n",
    "For more details on the data set, see the [univariate time series classification notebook](https://github.com/alan-turing-institute/sktime/blob/master/examples/02_classification_univariate.ipynb)."
   ]
  },
  {
   "cell_type": "code",
   "execution_count": 3,
   "metadata": {},
   "outputs": [
    {
     "name": "stdout",
     "output_type": "stream",
     "text": [
      "(158, 1) (158,) (53, 1) (53,)\n"
     ]
    }
   ],
   "source": [
    "X, y = load_arrow_head(return_X_y=True)\n",
    "X_train, X_test, y_train, y_test = train_test_split(X, y)\n",
    "print(X_train.shape, y_train.shape, X_test.shape, y_test.shape)"
   ]
  },
  {
   "cell_type": "code",
   "execution_count": 4,
   "metadata": {
    "jupyter": {
     "outputs_hidden": false
    },
    "pycharm": {
     "name": "#%%\n"
    }
   },
   "outputs": [
    {
     "data": {
      "text/html": [
       "<div>\n",
       "<style scoped>\n",
       "    .dataframe tbody tr th:only-of-type {\n",
       "        vertical-align: middle;\n",
       "    }\n",
       "\n",
       "    .dataframe tbody tr th {\n",
       "        vertical-align: top;\n",
       "    }\n",
       "\n",
       "    .dataframe thead th {\n",
       "        text-align: right;\n",
       "    }\n",
       "</style>\n",
       "<table border=\"1\" class=\"dataframe\">\n",
       "  <thead>\n",
       "    <tr style=\"text-align: right;\">\n",
       "      <th></th>\n",
       "      <th>dim_0</th>\n",
       "    </tr>\n",
       "  </thead>\n",
       "  <tbody>\n",
       "    <tr>\n",
       "      <th>74</th>\n",
       "      <td>0     -1.8914\n",
       "1     -1.8894\n",
       "2     -1.8531\n",
       "3   ...</td>\n",
       "    </tr>\n",
       "    <tr>\n",
       "      <th>108</th>\n",
       "      <td>0     -2.0692\n",
       "1     -2.0677\n",
       "2     -2.0495\n",
       "3   ...</td>\n",
       "    </tr>\n",
       "    <tr>\n",
       "      <th>52</th>\n",
       "      <td>0     -1.9858\n",
       "1     -1.9843\n",
       "2     -1.9625\n",
       "3   ...</td>\n",
       "    </tr>\n",
       "    <tr>\n",
       "      <th>42</th>\n",
       "      <td>0     -1.9921\n",
       "1     -2.0144\n",
       "2     -1.9611\n",
       "3   ...</td>\n",
       "    </tr>\n",
       "    <tr>\n",
       "      <th>153</th>\n",
       "      <td>0     -1.6628\n",
       "1     -1.6740\n",
       "2     -1.6541\n",
       "3   ...</td>\n",
       "    </tr>\n",
       "  </tbody>\n",
       "</table>\n",
       "</div>"
      ],
      "text/plain": [
       "                                                 dim_0\n",
       "74   0     -1.8914\n",
       "1     -1.8894\n",
       "2     -1.8531\n",
       "3   ...\n",
       "108  0     -2.0692\n",
       "1     -2.0677\n",
       "2     -2.0495\n",
       "3   ...\n",
       "52   0     -1.9858\n",
       "1     -1.9843\n",
       "2     -1.9625\n",
       "3   ...\n",
       "42   0     -1.9921\n",
       "1     -2.0144\n",
       "2     -1.9611\n",
       "3   ...\n",
       "153  0     -1.6628\n",
       "1     -1.6740\n",
       "2     -1.6541\n",
       "3   ..."
      ]
     },
     "execution_count": 4,
     "metadata": {},
     "output_type": "execute_result"
    }
   ],
   "source": [
    "X_train.head()"
   ]
  },
  {
   "cell_type": "code",
   "execution_count": 5,
   "metadata": {},
   "outputs": [
    {
     "data": {
      "text/plain": [
       "array(['0', '1', '2'], dtype=object)"
      ]
     },
     "execution_count": 5,
     "metadata": {},
     "output_type": "execute_result"
    }
   ],
   "source": [
    "# binary classification task\n",
    "np.unique(y_train)"
   ]
  },
  {
   "cell_type": "markdown",
   "metadata": {},
   "source": [
    "## Using tsfresh to extract features"
   ]
  },
  {
   "cell_type": "code",
   "execution_count": 6,
   "metadata": {},
   "outputs": [
    {
     "name": "stderr",
     "output_type": "stream",
     "text": [
      "/Users/travis/build/alan-turing-institute/sktime/sktime/transformers/series_as_features/summarize/_tsfresh.py:150: UserWarning: Found non-unique index, replaced with unique index.\n",
      "  warn(\"Found non-unique index, replaced with unique index.\")\n"
     ]
    },
    {
     "name": "stderr",
     "output_type": "stream",
     "text": [
      "\r",
      "Feature Extraction:   0%|          | 0/5 [00:00<?, ?it/s]"
     ]
    },
    {
     "name": "stderr",
     "output_type": "stream",
     "text": [
      "\r",
      "Feature Extraction:  20%|██        | 1/5 [00:04<00:17,  4.48s/it]"
     ]
    },
    {
     "name": "stderr",
     "output_type": "stream",
     "text": [
      "\r",
      "Feature Extraction:  40%|████      | 2/5 [00:08<00:13,  4.44s/it]"
     ]
    },
    {
     "name": "stderr",
     "output_type": "stream",
     "text": [
      "\r",
      "Feature Extraction:  60%|██████    | 3/5 [00:13<00:08,  4.42s/it]"
     ]
    },
    {
     "name": "stderr",
     "output_type": "stream",
     "text": [
      "\r",
      "Feature Extraction:  80%|████████  | 4/5 [00:17<00:04,  4.40s/it]"
     ]
    },
    {
     "name": "stderr",
     "output_type": "stream",
     "text": [
      "\r",
      "Feature Extraction: 100%|██████████| 5/5 [00:21<00:00,  4.30s/it]"
     ]
    },
    {
     "name": "stderr",
     "output_type": "stream",
     "text": [
      "\r",
      "Feature Extraction: 100%|██████████| 5/5 [00:21<00:00,  4.33s/it]"
     ]
    },
    {
     "name": "stderr",
     "output_type": "stream",
     "text": [
      "\n"
     ]
    },
    {
     "data": {
      "text/html": [
       "<div>\n",
       "<style scoped>\n",
       "    .dataframe tbody tr th:only-of-type {\n",
       "        vertical-align: middle;\n",
       "    }\n",
       "\n",
       "    .dataframe tbody tr th {\n",
       "        vertical-align: top;\n",
       "    }\n",
       "\n",
       "    .dataframe thead th {\n",
       "        text-align: right;\n",
       "    }\n",
       "</style>\n",
       "<table border=\"1\" class=\"dataframe\">\n",
       "  <thead>\n",
       "    <tr style=\"text-align: right;\">\n",
       "      <th>variable</th>\n",
       "      <th>dim_0__abs_energy</th>\n",
       "      <th>dim_0__absolute_sum_of_changes</th>\n",
       "      <th>dim_0__agg_autocorrelation__f_agg_\"mean\"__maxlag_40</th>\n",
       "      <th>dim_0__agg_autocorrelation__f_agg_\"median\"__maxlag_40</th>\n",
       "      <th>dim_0__agg_autocorrelation__f_agg_\"var\"__maxlag_40</th>\n",
       "      <th>dim_0__agg_linear_trend__attr_\"intercept\"__chunk_len_10__f_agg_\"max\"</th>\n",
       "      <th>dim_0__agg_linear_trend__attr_\"intercept\"__chunk_len_10__f_agg_\"mean\"</th>\n",
       "      <th>dim_0__agg_linear_trend__attr_\"intercept\"__chunk_len_10__f_agg_\"min\"</th>\n",
       "      <th>dim_0__agg_linear_trend__attr_\"intercept\"__chunk_len_10__f_agg_\"var\"</th>\n",
       "      <th>dim_0__agg_linear_trend__attr_\"intercept\"__chunk_len_50__f_agg_\"max\"</th>\n",
       "      <th>...</th>\n",
       "      <th>dim_0__symmetry_looking__r_0.9500000000000001</th>\n",
       "      <th>dim_0__time_reversal_asymmetry_statistic__lag_1</th>\n",
       "      <th>dim_0__time_reversal_asymmetry_statistic__lag_2</th>\n",
       "      <th>dim_0__time_reversal_asymmetry_statistic__lag_3</th>\n",
       "      <th>dim_0__value_count__value_-1</th>\n",
       "      <th>dim_0__value_count__value_0</th>\n",
       "      <th>dim_0__value_count__value_1</th>\n",
       "      <th>dim_0__variance</th>\n",
       "      <th>dim_0__variance_larger_than_standard_deviation</th>\n",
       "      <th>dim_0__variation_coefficient</th>\n",
       "    </tr>\n",
       "  </thead>\n",
       "  <tbody>\n",
       "    <tr>\n",
       "      <th>0</th>\n",
       "      <td>249.999057</td>\n",
       "      <td>83.688048</td>\n",
       "      <td>0.299973</td>\n",
       "      <td>0.330694</td>\n",
       "      <td>0.078110</td>\n",
       "      <td>-0.288386</td>\n",
       "      <td>-0.609495</td>\n",
       "      <td>-1.264774</td>\n",
       "      <td>0.106336</td>\n",
       "      <td>0.749217</td>\n",
       "      <td>...</td>\n",
       "      <td>1.0</td>\n",
       "      <td>0.053377</td>\n",
       "      <td>0.015943</td>\n",
       "      <td>-0.008440</td>\n",
       "      <td>0.0</td>\n",
       "      <td>0.0</td>\n",
       "      <td>0.0</td>\n",
       "      <td>0.996012</td>\n",
       "      <td>0.0</td>\n",
       "      <td>-5.081116e+05</td>\n",
       "    </tr>\n",
       "    <tr>\n",
       "      <th>1</th>\n",
       "      <td>250.000002</td>\n",
       "      <td>84.814658</td>\n",
       "      <td>0.273345</td>\n",
       "      <td>0.273910</td>\n",
       "      <td>0.067191</td>\n",
       "      <td>-0.277490</td>\n",
       "      <td>-0.558690</td>\n",
       "      <td>-1.112529</td>\n",
       "      <td>0.082668</td>\n",
       "      <td>0.612604</td>\n",
       "      <td>...</td>\n",
       "      <td>1.0</td>\n",
       "      <td>0.061994</td>\n",
       "      <td>0.005993</td>\n",
       "      <td>-0.028464</td>\n",
       "      <td>0.0</td>\n",
       "      <td>0.0</td>\n",
       "      <td>0.0</td>\n",
       "      <td>0.996016</td>\n",
       "      <td>0.0</td>\n",
       "      <td>1.518179e+06</td>\n",
       "    </tr>\n",
       "    <tr>\n",
       "      <th>2</th>\n",
       "      <td>249.999929</td>\n",
       "      <td>88.354750</td>\n",
       "      <td>0.250140</td>\n",
       "      <td>0.285763</td>\n",
       "      <td>0.077826</td>\n",
       "      <td>-0.287491</td>\n",
       "      <td>-0.565849</td>\n",
       "      <td>-1.245895</td>\n",
       "      <td>0.113990</td>\n",
       "      <td>0.607339</td>\n",
       "      <td>...</td>\n",
       "      <td>1.0</td>\n",
       "      <td>0.069554</td>\n",
       "      <td>0.015329</td>\n",
       "      <td>-0.010554</td>\n",
       "      <td>0.0</td>\n",
       "      <td>0.0</td>\n",
       "      <td>0.0</td>\n",
       "      <td>0.996016</td>\n",
       "      <td>0.0</td>\n",
       "      <td>-8.054645e+05</td>\n",
       "    </tr>\n",
       "    <tr>\n",
       "      <th>3</th>\n",
       "      <td>249.999669</td>\n",
       "      <td>92.154196</td>\n",
       "      <td>0.157192</td>\n",
       "      <td>0.182119</td>\n",
       "      <td>0.103257</td>\n",
       "      <td>-0.109189</td>\n",
       "      <td>-0.412927</td>\n",
       "      <td>-1.369386</td>\n",
       "      <td>0.166426</td>\n",
       "      <td>0.884207</td>\n",
       "      <td>...</td>\n",
       "      <td>1.0</td>\n",
       "      <td>0.066259</td>\n",
       "      <td>0.023101</td>\n",
       "      <td>-0.001812</td>\n",
       "      <td>0.0</td>\n",
       "      <td>0.0</td>\n",
       "      <td>0.0</td>\n",
       "      <td>0.996015</td>\n",
       "      <td>0.0</td>\n",
       "      <td>-6.139690e+05</td>\n",
       "    </tr>\n",
       "    <tr>\n",
       "      <th>4</th>\n",
       "      <td>250.000864</td>\n",
       "      <td>76.331544</td>\n",
       "      <td>0.355974</td>\n",
       "      <td>0.412909</td>\n",
       "      <td>0.085993</td>\n",
       "      <td>-0.380598</td>\n",
       "      <td>-0.670945</td>\n",
       "      <td>-1.147883</td>\n",
       "      <td>0.076846</td>\n",
       "      <td>0.667578</td>\n",
       "      <td>...</td>\n",
       "      <td>1.0</td>\n",
       "      <td>0.036064</td>\n",
       "      <td>0.007578</td>\n",
       "      <td>-0.001184</td>\n",
       "      <td>0.0</td>\n",
       "      <td>0.0</td>\n",
       "      <td>1.0</td>\n",
       "      <td>0.996019</td>\n",
       "      <td>0.0</td>\n",
       "      <td>6.325756e+05</td>\n",
       "    </tr>\n",
       "  </tbody>\n",
       "</table>\n",
       "<p>5 rows × 757 columns</p>\n",
       "</div>"
      ],
      "text/plain": [
       "variable  dim_0__abs_energy  dim_0__absolute_sum_of_changes  \\\n",
       "0                249.999057                       83.688048   \n",
       "1                250.000002                       84.814658   \n",
       "2                249.999929                       88.354750   \n",
       "3                249.999669                       92.154196   \n",
       "4                250.000864                       76.331544   \n",
       "\n",
       "variable  dim_0__agg_autocorrelation__f_agg_\"mean\"__maxlag_40  \\\n",
       "0                                                  0.299973     \n",
       "1                                                  0.273345     \n",
       "2                                                  0.250140     \n",
       "3                                                  0.157192     \n",
       "4                                                  0.355974     \n",
       "\n",
       "variable  dim_0__agg_autocorrelation__f_agg_\"median\"__maxlag_40  \\\n",
       "0                                                  0.330694       \n",
       "1                                                  0.273910       \n",
       "2                                                  0.285763       \n",
       "3                                                  0.182119       \n",
       "4                                                  0.412909       \n",
       "\n",
       "variable  dim_0__agg_autocorrelation__f_agg_\"var\"__maxlag_40  \\\n",
       "0                                                  0.078110    \n",
       "1                                                  0.067191    \n",
       "2                                                  0.077826    \n",
       "3                                                  0.103257    \n",
       "4                                                  0.085993    \n",
       "\n",
       "variable  dim_0__agg_linear_trend__attr_\"intercept\"__chunk_len_10__f_agg_\"max\"  \\\n",
       "0                                                 -0.288386                      \n",
       "1                                                 -0.277490                      \n",
       "2                                                 -0.287491                      \n",
       "3                                                 -0.109189                      \n",
       "4                                                 -0.380598                      \n",
       "\n",
       "variable  dim_0__agg_linear_trend__attr_\"intercept\"__chunk_len_10__f_agg_\"mean\"  \\\n",
       "0                                                 -0.609495                       \n",
       "1                                                 -0.558690                       \n",
       "2                                                 -0.565849                       \n",
       "3                                                 -0.412927                       \n",
       "4                                                 -0.670945                       \n",
       "\n",
       "variable  dim_0__agg_linear_trend__attr_\"intercept\"__chunk_len_10__f_agg_\"min\"  \\\n",
       "0                                                 -1.264774                      \n",
       "1                                                 -1.112529                      \n",
       "2                                                 -1.245895                      \n",
       "3                                                 -1.369386                      \n",
       "4                                                 -1.147883                      \n",
       "\n",
       "variable  dim_0__agg_linear_trend__attr_\"intercept\"__chunk_len_10__f_agg_\"var\"  \\\n",
       "0                                                  0.106336                      \n",
       "1                                                  0.082668                      \n",
       "2                                                  0.113990                      \n",
       "3                                                  0.166426                      \n",
       "4                                                  0.076846                      \n",
       "\n",
       "variable  dim_0__agg_linear_trend__attr_\"intercept\"__chunk_len_50__f_agg_\"max\"  \\\n",
       "0                                                  0.749217                      \n",
       "1                                                  0.612604                      \n",
       "2                                                  0.607339                      \n",
       "3                                                  0.884207                      \n",
       "4                                                  0.667578                      \n",
       "\n",
       "variable  ...  dim_0__symmetry_looking__r_0.9500000000000001  \\\n",
       "0         ...                                            1.0   \n",
       "1         ...                                            1.0   \n",
       "2         ...                                            1.0   \n",
       "3         ...                                            1.0   \n",
       "4         ...                                            1.0   \n",
       "\n",
       "variable  dim_0__time_reversal_asymmetry_statistic__lag_1  \\\n",
       "0                                                0.053377   \n",
       "1                                                0.061994   \n",
       "2                                                0.069554   \n",
       "3                                                0.066259   \n",
       "4                                                0.036064   \n",
       "\n",
       "variable  dim_0__time_reversal_asymmetry_statistic__lag_2  \\\n",
       "0                                                0.015943   \n",
       "1                                                0.005993   \n",
       "2                                                0.015329   \n",
       "3                                                0.023101   \n",
       "4                                                0.007578   \n",
       "\n",
       "variable  dim_0__time_reversal_asymmetry_statistic__lag_3  \\\n",
       "0                                               -0.008440   \n",
       "1                                               -0.028464   \n",
       "2                                               -0.010554   \n",
       "3                                               -0.001812   \n",
       "4                                               -0.001184   \n",
       "\n",
       "variable  dim_0__value_count__value_-1  dim_0__value_count__value_0  \\\n",
       "0                                  0.0                          0.0   \n",
       "1                                  0.0                          0.0   \n",
       "2                                  0.0                          0.0   \n",
       "3                                  0.0                          0.0   \n",
       "4                                  0.0                          0.0   \n",
       "\n",
       "variable  dim_0__value_count__value_1  dim_0__variance  \\\n",
       "0                                 0.0         0.996012   \n",
       "1                                 0.0         0.996016   \n",
       "2                                 0.0         0.996016   \n",
       "3                                 0.0         0.996015   \n",
       "4                                 1.0         0.996019   \n",
       "\n",
       "variable  dim_0__variance_larger_than_standard_deviation  \\\n",
       "0                                                    0.0   \n",
       "1                                                    0.0   \n",
       "2                                                    0.0   \n",
       "3                                                    0.0   \n",
       "4                                                    0.0   \n",
       "\n",
       "variable  dim_0__variation_coefficient  \n",
       "0                        -5.081116e+05  \n",
       "1                         1.518179e+06  \n",
       "2                        -8.054645e+05  \n",
       "3                        -6.139690e+05  \n",
       "4                         6.325756e+05  \n",
       "\n",
       "[5 rows x 757 columns]"
      ]
     },
     "execution_count": 6,
     "metadata": {},
     "output_type": "execute_result"
    }
   ],
   "source": [
    "# tf = TsFreshTransfomer()\n",
    "t = TSFreshFeatureExtractor(default_fc_parameters=\"efficient\", show_warnings=False)\n",
    "Xt = t.fit_transform(X_train)\n",
    "Xt.head()"
   ]
  },
  {
   "cell_type": "markdown",
   "metadata": {},
   "source": [
    "## Using tsfresh with sktime"
   ]
  },
  {
   "cell_type": "code",
   "execution_count": 7,
   "metadata": {},
   "outputs": [
    {
     "name": "stderr",
     "output_type": "stream",
     "text": [
      "/Users/travis/build/alan-turing-institute/sktime/sktime/transformers/series_as_features/summarize/_tsfresh.py:150: UserWarning: Found non-unique index, replaced with unique index.\n",
      "  warn(\"Found non-unique index, replaced with unique index.\")\n"
     ]
    },
    {
     "name": "stderr",
     "output_type": "stream",
     "text": [
      "\r",
      "Feature Extraction:   0%|          | 0/5 [00:00<?, ?it/s]"
     ]
    },
    {
     "name": "stderr",
     "output_type": "stream",
     "text": [
      "\r",
      "Feature Extraction:  20%|██        | 1/5 [00:04<00:18,  4.71s/it]"
     ]
    },
    {
     "name": "stderr",
     "output_type": "stream",
     "text": [
      "\r",
      "Feature Extraction:  40%|████      | 2/5 [00:08<00:13,  4.58s/it]"
     ]
    },
    {
     "name": "stderr",
     "output_type": "stream",
     "text": [
      "\r",
      "Feature Extraction:  60%|██████    | 3/5 [00:13<00:08,  4.50s/it]"
     ]
    },
    {
     "name": "stderr",
     "output_type": "stream",
     "text": [
      "\r",
      "Feature Extraction:  80%|████████  | 4/5 [00:17<00:04,  4.44s/it]"
     ]
    },
    {
     "name": "stderr",
     "output_type": "stream",
     "text": [
      "\r",
      "Feature Extraction: 100%|██████████| 5/5 [00:21<00:00,  4.33s/it]"
     ]
    },
    {
     "name": "stderr",
     "output_type": "stream",
     "text": [
      "\r",
      "Feature Extraction: 100%|██████████| 5/5 [00:21<00:00,  4.33s/it]"
     ]
    },
    {
     "name": "stderr",
     "output_type": "stream",
     "text": [
      "\n"
     ]
    },
    {
     "name": "stderr",
     "output_type": "stream",
     "text": [
      "/Users/travis/build/alan-turing-institute/sktime/sktime/transformers/series_as_features/summarize/_tsfresh.py:150: UserWarning: Found non-unique index, replaced with unique index.\n",
      "  warn(\"Found non-unique index, replaced with unique index.\")\n"
     ]
    },
    {
     "name": "stderr",
     "output_type": "stream",
     "text": [
      "\r",
      "Feature Extraction:   0%|          | 0/5 [00:00<?, ?it/s]"
     ]
    },
    {
     "name": "stderr",
     "output_type": "stream",
     "text": [
      "\r",
      "Feature Extraction:  20%|██        | 1/5 [00:01<00:06,  1.58s/it]"
     ]
    },
    {
     "name": "stderr",
     "output_type": "stream",
     "text": [
      "\r",
      "Feature Extraction:  40%|████      | 2/5 [00:03<00:04,  1.55s/it]"
     ]
    },
    {
     "name": "stderr",
     "output_type": "stream",
     "text": [
      "\r",
      "Feature Extraction:  60%|██████    | 3/5 [00:04<00:03,  1.54s/it]"
     ]
    },
    {
     "name": "stderr",
     "output_type": "stream",
     "text": [
      "\r",
      "Feature Extraction:  80%|████████  | 4/5 [00:06<00:01,  1.53s/it]"
     ]
    },
    {
     "name": "stderr",
     "output_type": "stream",
     "text": [
      "\r",
      "Feature Extraction: 100%|██████████| 5/5 [00:07<00:00,  1.44s/it]"
     ]
    },
    {
     "name": "stderr",
     "output_type": "stream",
     "text": [
      "\r",
      "Feature Extraction: 100%|██████████| 5/5 [00:07<00:00,  1.46s/it]"
     ]
    },
    {
     "name": "stderr",
     "output_type": "stream",
     "text": [
      "\n"
     ]
    },
    {
     "data": {
      "text/plain": [
       "0.8867924528301887"
      ]
     },
     "execution_count": 7,
     "metadata": {},
     "output_type": "execute_result"
    }
   ],
   "source": [
    "classifier = make_pipeline(\n",
    "    TSFreshFeatureExtractor(default_fc_parameters=\"efficient\", show_warnings=False),\n",
    "    RandomForestClassifier()\n",
    ")\n",
    "classifier.fit(X_train, y_train)\n",
    "classifier.score(X_test, y_test)"
   ]
  },
  {
   "cell_type": "markdown",
   "metadata": {},
   "source": [
    "## Multivariate time series classification data"
   ]
  },
  {
   "cell_type": "code",
   "execution_count": 8,
   "metadata": {
    "scrolled": true
   },
   "outputs": [
    {
     "name": "stdout",
     "output_type": "stream",
     "text": [
      "(60, 6) (60,) (20, 6) (20,)\n"
     ]
    }
   ],
   "source": [
    "X, y = load_basic_motions(return_X_y=True)\n",
    "X_train, X_test, y_train, y_test = train_test_split(X, y)\n",
    "print(X_train.shape, y_train.shape, X_test.shape, y_test.shape)"
   ]
  },
  {
   "cell_type": "code",
   "execution_count": 9,
   "metadata": {
    "jupyter": {
     "outputs_hidden": false
    },
    "pycharm": {
     "name": "#%%\n"
    }
   },
   "outputs": [
    {
     "data": {
      "text/html": [
       "<div>\n",
       "<style scoped>\n",
       "    .dataframe tbody tr th:only-of-type {\n",
       "        vertical-align: middle;\n",
       "    }\n",
       "\n",
       "    .dataframe tbody tr th {\n",
       "        vertical-align: top;\n",
       "    }\n",
       "\n",
       "    .dataframe thead th {\n",
       "        text-align: right;\n",
       "    }\n",
       "</style>\n",
       "<table border=\"1\" class=\"dataframe\">\n",
       "  <thead>\n",
       "    <tr style=\"text-align: right;\">\n",
       "      <th></th>\n",
       "      <th>dim_0</th>\n",
       "      <th>dim_1</th>\n",
       "      <th>dim_2</th>\n",
       "      <th>dim_3</th>\n",
       "      <th>dim_4</th>\n",
       "      <th>dim_5</th>\n",
       "    </tr>\n",
       "  </thead>\n",
       "  <tbody>\n",
       "    <tr>\n",
       "      <th>31</th>\n",
       "      <td>0     0.036607\n",
       "1     0.036607\n",
       "2     0.265778\n",
       "3...</td>\n",
       "      <td>0     0.341686\n",
       "1     0.341686\n",
       "2    -0.164943\n",
       "3...</td>\n",
       "      <td>0    -0.694948\n",
       "1    -0.694948\n",
       "2    -0.635560\n",
       "3...</td>\n",
       "      <td>0    -0.253020\n",
       "1    -0.253020\n",
       "2    -0.354229\n",
       "3...</td>\n",
       "      <td>0    -0.082565\n",
       "1    -0.082565\n",
       "2    -0.516694\n",
       "3...</td>\n",
       "      <td>0    -0.090555\n",
       "1    -0.090555\n",
       "2     1.470182\n",
       "3...</td>\n",
       "    </tr>\n",
       "    <tr>\n",
       "      <th>0</th>\n",
       "      <td>0     0.079106\n",
       "1     0.079106\n",
       "2    -0.903497\n",
       "3...</td>\n",
       "      <td>0     0.394032\n",
       "1     0.394032\n",
       "2    -3.666397\n",
       "3...</td>\n",
       "      <td>0     0.551444\n",
       "1     0.551444\n",
       "2    -0.282844\n",
       "3...</td>\n",
       "      <td>0     0.351565\n",
       "1     0.351565\n",
       "2    -0.095881\n",
       "3...</td>\n",
       "      <td>0     0.023970\n",
       "1     0.023970\n",
       "2    -0.319605\n",
       "3...</td>\n",
       "      <td>0     0.633883\n",
       "1     0.633883\n",
       "2     0.972131\n",
       "3...</td>\n",
       "    </tr>\n",
       "    <tr>\n",
       "      <th>39</th>\n",
       "      <td>0     1.211973\n",
       "1     1.211973\n",
       "2    -0.605948\n",
       "3...</td>\n",
       "      <td>0    -0.247107\n",
       "1    -0.247107\n",
       "2    -3.855673\n",
       "3...</td>\n",
       "      <td>0     0.327837\n",
       "1     0.327837\n",
       "2     7.113185\n",
       "3...</td>\n",
       "      <td>0     0.058594\n",
       "1     0.058594\n",
       "2     0.900220\n",
       "3...</td>\n",
       "      <td>0    -0.527348\n",
       "1    -0.527348\n",
       "2    -1.326360\n",
       "3...</td>\n",
       "      <td>0    -0.042614\n",
       "1    -0.042614\n",
       "2    -0.095881\n",
       "3...</td>\n",
       "    </tr>\n",
       "    <tr>\n",
       "      <th>30</th>\n",
       "      <td>0     -0.771623\n",
       "1     -0.771623\n",
       "2     -2.32382...</td>\n",
       "      <td>0      0.372042\n",
       "1      0.372042\n",
       "2     -0.29603...</td>\n",
       "      <td>0     -0.145753\n",
       "1     -0.145753\n",
       "2      1.71501...</td>\n",
       "      <td>0    -0.031960\n",
       "1    -0.031960\n",
       "2     0.383526\n",
       "3...</td>\n",
       "      <td>0     0.167792\n",
       "1     0.167792\n",
       "2     0.229050\n",
       "3...</td>\n",
       "      <td>0     -0.362219\n",
       "1     -0.362219\n",
       "2     -0.23970...</td>\n",
       "    </tr>\n",
       "    <tr>\n",
       "      <th>20</th>\n",
       "      <td>0    -0.294498\n",
       "1    -0.294498\n",
       "2    -0.050044\n",
       "3...</td>\n",
       "      <td>0     0.540218\n",
       "1     0.540218\n",
       "2    -0.515245\n",
       "3...</td>\n",
       "      <td>0     0.218114\n",
       "1     0.218114\n",
       "2    -0.301108\n",
       "3...</td>\n",
       "      <td>0    -0.045277\n",
       "1    -0.045277\n",
       "2     0.103872\n",
       "3...</td>\n",
       "      <td>0    -0.002663\n",
       "1    -0.002663\n",
       "2    -0.183773\n",
       "3...</td>\n",
       "      <td>0     0.031960\n",
       "1     0.031960\n",
       "2     0.037287\n",
       "3...</td>\n",
       "    </tr>\n",
       "  </tbody>\n",
       "</table>\n",
       "</div>"
      ],
      "text/plain": [
       "                                                dim_0  \\\n",
       "31  0     0.036607\n",
       "1     0.036607\n",
       "2     0.265778\n",
       "3...   \n",
       "0   0     0.079106\n",
       "1     0.079106\n",
       "2    -0.903497\n",
       "3...   \n",
       "39  0     1.211973\n",
       "1     1.211973\n",
       "2    -0.605948\n",
       "3...   \n",
       "30  0     -0.771623\n",
       "1     -0.771623\n",
       "2     -2.32382...   \n",
       "20  0    -0.294498\n",
       "1    -0.294498\n",
       "2    -0.050044\n",
       "3...   \n",
       "\n",
       "                                                dim_1  \\\n",
       "31  0     0.341686\n",
       "1     0.341686\n",
       "2    -0.164943\n",
       "3...   \n",
       "0   0     0.394032\n",
       "1     0.394032\n",
       "2    -3.666397\n",
       "3...   \n",
       "39  0    -0.247107\n",
       "1    -0.247107\n",
       "2    -3.855673\n",
       "3...   \n",
       "30  0      0.372042\n",
       "1      0.372042\n",
       "2     -0.29603...   \n",
       "20  0     0.540218\n",
       "1     0.540218\n",
       "2    -0.515245\n",
       "3...   \n",
       "\n",
       "                                                dim_2  \\\n",
       "31  0    -0.694948\n",
       "1    -0.694948\n",
       "2    -0.635560\n",
       "3...   \n",
       "0   0     0.551444\n",
       "1     0.551444\n",
       "2    -0.282844\n",
       "3...   \n",
       "39  0     0.327837\n",
       "1     0.327837\n",
       "2     7.113185\n",
       "3...   \n",
       "30  0     -0.145753\n",
       "1     -0.145753\n",
       "2      1.71501...   \n",
       "20  0     0.218114\n",
       "1     0.218114\n",
       "2    -0.301108\n",
       "3...   \n",
       "\n",
       "                                                dim_3  \\\n",
       "31  0    -0.253020\n",
       "1    -0.253020\n",
       "2    -0.354229\n",
       "3...   \n",
       "0   0     0.351565\n",
       "1     0.351565\n",
       "2    -0.095881\n",
       "3...   \n",
       "39  0     0.058594\n",
       "1     0.058594\n",
       "2     0.900220\n",
       "3...   \n",
       "30  0    -0.031960\n",
       "1    -0.031960\n",
       "2     0.383526\n",
       "3...   \n",
       "20  0    -0.045277\n",
       "1    -0.045277\n",
       "2     0.103872\n",
       "3...   \n",
       "\n",
       "                                                dim_4  \\\n",
       "31  0    -0.082565\n",
       "1    -0.082565\n",
       "2    -0.516694\n",
       "3...   \n",
       "0   0     0.023970\n",
       "1     0.023970\n",
       "2    -0.319605\n",
       "3...   \n",
       "39  0    -0.527348\n",
       "1    -0.527348\n",
       "2    -1.326360\n",
       "3...   \n",
       "30  0     0.167792\n",
       "1     0.167792\n",
       "2     0.229050\n",
       "3...   \n",
       "20  0    -0.002663\n",
       "1    -0.002663\n",
       "2    -0.183773\n",
       "3...   \n",
       "\n",
       "                                                dim_5  \n",
       "31  0    -0.090555\n",
       "1    -0.090555\n",
       "2     1.470182\n",
       "3...  \n",
       "0   0     0.633883\n",
       "1     0.633883\n",
       "2     0.972131\n",
       "3...  \n",
       "39  0    -0.042614\n",
       "1    -0.042614\n",
       "2    -0.095881\n",
       "3...  \n",
       "30  0     -0.362219\n",
       "1     -0.362219\n",
       "2     -0.23970...  \n",
       "20  0     0.031960\n",
       "1     0.031960\n",
       "2     0.037287\n",
       "3...  "
      ]
     },
     "execution_count": 9,
     "metadata": {},
     "output_type": "execute_result"
    }
   ],
   "source": [
    "# multivariate input data\n",
    "X_train.head()"
   ]
  },
  {
   "cell_type": "code",
   "execution_count": 10,
   "metadata": {
    "scrolled": true
   },
   "outputs": [
    {
     "name": "stderr",
     "output_type": "stream",
     "text": [
      "/Users/travis/build/alan-turing-institute/sktime/sktime/transformers/series_as_features/summarize/_tsfresh.py:150: UserWarning: Found non-unique index, replaced with unique index.\n",
      "  warn(\"Found non-unique index, replaced with unique index.\")\n"
     ]
    },
    {
     "name": "stderr",
     "output_type": "stream",
     "text": [
      "\r",
      "Feature Extraction:   0%|          | 0/5 [00:00<?, ?it/s]"
     ]
    },
    {
     "name": "stderr",
     "output_type": "stream",
     "text": [
      "\r",
      "Feature Extraction:  20%|██        | 1/5 [00:07<00:31,  7.90s/it]"
     ]
    },
    {
     "name": "stderr",
     "output_type": "stream",
     "text": [
      "\r",
      "Feature Extraction:  40%|████      | 2/5 [00:15<00:23,  7.78s/it]"
     ]
    },
    {
     "name": "stderr",
     "output_type": "stream",
     "text": [
      "\r",
      "Feature Extraction:  60%|██████    | 3/5 [00:22<00:15,  7.64s/it]"
     ]
    },
    {
     "name": "stderr",
     "output_type": "stream",
     "text": [
      "\r",
      "Feature Extraction:  80%|████████  | 4/5 [00:30<00:07,  7.61s/it]"
     ]
    },
    {
     "name": "stderr",
     "output_type": "stream",
     "text": [
      "\r",
      "Feature Extraction: 100%|██████████| 5/5 [00:37<00:00,  7.59s/it]"
     ]
    },
    {
     "name": "stderr",
     "output_type": "stream",
     "text": [
      "\r",
      "Feature Extraction: 100%|██████████| 5/5 [00:37<00:00,  7.56s/it]"
     ]
    },
    {
     "name": "stderr",
     "output_type": "stream",
     "text": [
      "\n"
     ]
    },
    {
     "data": {
      "text/html": [
       "<div>\n",
       "<style scoped>\n",
       "    .dataframe tbody tr th:only-of-type {\n",
       "        vertical-align: middle;\n",
       "    }\n",
       "\n",
       "    .dataframe tbody tr th {\n",
       "        vertical-align: top;\n",
       "    }\n",
       "\n",
       "    .dataframe thead th {\n",
       "        text-align: right;\n",
       "    }\n",
       "</style>\n",
       "<table border=\"1\" class=\"dataframe\">\n",
       "  <thead>\n",
       "    <tr style=\"text-align: right;\">\n",
       "      <th>variable</th>\n",
       "      <th>dim_0__abs_energy</th>\n",
       "      <th>dim_0__absolute_sum_of_changes</th>\n",
       "      <th>dim_0__agg_autocorrelation__f_agg_\"mean\"__maxlag_40</th>\n",
       "      <th>dim_0__agg_autocorrelation__f_agg_\"median\"__maxlag_40</th>\n",
       "      <th>dim_0__agg_autocorrelation__f_agg_\"var\"__maxlag_40</th>\n",
       "      <th>dim_0__agg_linear_trend__attr_\"intercept\"__chunk_len_10__f_agg_\"max\"</th>\n",
       "      <th>dim_0__agg_linear_trend__attr_\"intercept\"__chunk_len_10__f_agg_\"mean\"</th>\n",
       "      <th>dim_0__agg_linear_trend__attr_\"intercept\"__chunk_len_10__f_agg_\"min\"</th>\n",
       "      <th>dim_0__agg_linear_trend__attr_\"intercept\"__chunk_len_10__f_agg_\"var\"</th>\n",
       "      <th>dim_0__agg_linear_trend__attr_\"intercept\"__chunk_len_50__f_agg_\"max\"</th>\n",
       "      <th>...</th>\n",
       "      <th>dim_5__symmetry_looking__r_0.9500000000000001</th>\n",
       "      <th>dim_5__time_reversal_asymmetry_statistic__lag_1</th>\n",
       "      <th>dim_5__time_reversal_asymmetry_statistic__lag_2</th>\n",
       "      <th>dim_5__time_reversal_asymmetry_statistic__lag_3</th>\n",
       "      <th>dim_5__value_count__value_-1</th>\n",
       "      <th>dim_5__value_count__value_0</th>\n",
       "      <th>dim_5__value_count__value_1</th>\n",
       "      <th>dim_5__variance</th>\n",
       "      <th>dim_5__variance_larger_than_standard_deviation</th>\n",
       "      <th>dim_5__variation_coefficient</th>\n",
       "    </tr>\n",
       "  </thead>\n",
       "  <tbody>\n",
       "    <tr>\n",
       "      <th>0</th>\n",
       "      <td>5923.622075</td>\n",
       "      <td>351.902197</td>\n",
       "      <td>-0.022711</td>\n",
       "      <td>-0.054728</td>\n",
       "      <td>0.045949</td>\n",
       "      <td>18.952323</td>\n",
       "      <td>4.786800</td>\n",
       "      <td>-1.586263</td>\n",
       "      <td>44.834159</td>\n",
       "      <td>28.002060</td>\n",
       "      <td>...</td>\n",
       "      <td>1.0</td>\n",
       "      <td>-1.762020</td>\n",
       "      <td>4.734516</td>\n",
       "      <td>13.574916</td>\n",
       "      <td>0.0</td>\n",
       "      <td>0.0</td>\n",
       "      <td>0.0</td>\n",
       "      <td>12.647317</td>\n",
       "      <td>1.0</td>\n",
       "      <td>-97.393541</td>\n",
       "    </tr>\n",
       "    <tr>\n",
       "      <th>1</th>\n",
       "      <td>10.629914</td>\n",
       "      <td>22.690124</td>\n",
       "      <td>0.039365</td>\n",
       "      <td>0.029099</td>\n",
       "      <td>0.008885</td>\n",
       "      <td>1.021608</td>\n",
       "      <td>0.068493</td>\n",
       "      <td>-0.493076</td>\n",
       "      <td>0.172195</td>\n",
       "      <td>1.638200</td>\n",
       "      <td>...</td>\n",
       "      <td>1.0</td>\n",
       "      <td>0.019919</td>\n",
       "      <td>-0.005089</td>\n",
       "      <td>-0.028410</td>\n",
       "      <td>0.0</td>\n",
       "      <td>0.0</td>\n",
       "      <td>0.0</td>\n",
       "      <td>0.260379</td>\n",
       "      <td>0.0</td>\n",
       "      <td>9.377847</td>\n",
       "    </tr>\n",
       "    <tr>\n",
       "      <th>2</th>\n",
       "      <td>8508.951625</td>\n",
       "      <td>459.048651</td>\n",
       "      <td>-0.004866</td>\n",
       "      <td>-0.047343</td>\n",
       "      <td>0.044864</td>\n",
       "      <td>19.405911</td>\n",
       "      <td>7.093272</td>\n",
       "      <td>-1.529865</td>\n",
       "      <td>54.095927</td>\n",
       "      <td>29.210932</td>\n",
       "      <td>...</td>\n",
       "      <td>1.0</td>\n",
       "      <td>-41.246265</td>\n",
       "      <td>26.299019</td>\n",
       "      <td>59.697679</td>\n",
       "      <td>0.0</td>\n",
       "      <td>0.0</td>\n",
       "      <td>0.0</td>\n",
       "      <td>21.230098</td>\n",
       "      <td>1.0</td>\n",
       "      <td>58.366824</td>\n",
       "    </tr>\n",
       "    <tr>\n",
       "      <th>3</th>\n",
       "      <td>12647.878199</td>\n",
       "      <td>542.656064</td>\n",
       "      <td>-0.026511</td>\n",
       "      <td>-0.067215</td>\n",
       "      <td>0.036655</td>\n",
       "      <td>23.291787</td>\n",
       "      <td>7.266123</td>\n",
       "      <td>-0.715149</td>\n",
       "      <td>64.776848</td>\n",
       "      <td>28.768162</td>\n",
       "      <td>...</td>\n",
       "      <td>1.0</td>\n",
       "      <td>-32.549793</td>\n",
       "      <td>16.940870</td>\n",
       "      <td>21.610465</td>\n",
       "      <td>0.0</td>\n",
       "      <td>0.0</td>\n",
       "      <td>0.0</td>\n",
       "      <td>34.694581</td>\n",
       "      <td>1.0</td>\n",
       "      <td>-5.073784</td>\n",
       "    </tr>\n",
       "    <tr>\n",
       "      <th>4</th>\n",
       "      <td>110.735119</td>\n",
       "      <td>85.854825</td>\n",
       "      <td>-0.018927</td>\n",
       "      <td>-0.035650</td>\n",
       "      <td>0.027377</td>\n",
       "      <td>2.309696</td>\n",
       "      <td>0.354539</td>\n",
       "      <td>-0.770196</td>\n",
       "      <td>0.975286</td>\n",
       "      <td>3.041947</td>\n",
       "      <td>...</td>\n",
       "      <td>1.0</td>\n",
       "      <td>-0.025912</td>\n",
       "      <td>0.047528</td>\n",
       "      <td>0.317551</td>\n",
       "      <td>0.0</td>\n",
       "      <td>0.0</td>\n",
       "      <td>0.0</td>\n",
       "      <td>1.089646</td>\n",
       "      <td>1.0</td>\n",
       "      <td>184.873936</td>\n",
       "    </tr>\n",
       "  </tbody>\n",
       "</table>\n",
       "<p>5 rows × 4542 columns</p>\n",
       "</div>"
      ],
      "text/plain": [
       "variable  dim_0__abs_energy  dim_0__absolute_sum_of_changes  \\\n",
       "0               5923.622075                      351.902197   \n",
       "1                 10.629914                       22.690124   \n",
       "2               8508.951625                      459.048651   \n",
       "3              12647.878199                      542.656064   \n",
       "4                110.735119                       85.854825   \n",
       "\n",
       "variable  dim_0__agg_autocorrelation__f_agg_\"mean\"__maxlag_40  \\\n",
       "0                                                 -0.022711     \n",
       "1                                                  0.039365     \n",
       "2                                                 -0.004866     \n",
       "3                                                 -0.026511     \n",
       "4                                                 -0.018927     \n",
       "\n",
       "variable  dim_0__agg_autocorrelation__f_agg_\"median\"__maxlag_40  \\\n",
       "0                                                 -0.054728       \n",
       "1                                                  0.029099       \n",
       "2                                                 -0.047343       \n",
       "3                                                 -0.067215       \n",
       "4                                                 -0.035650       \n",
       "\n",
       "variable  dim_0__agg_autocorrelation__f_agg_\"var\"__maxlag_40  \\\n",
       "0                                                  0.045949    \n",
       "1                                                  0.008885    \n",
       "2                                                  0.044864    \n",
       "3                                                  0.036655    \n",
       "4                                                  0.027377    \n",
       "\n",
       "variable  dim_0__agg_linear_trend__attr_\"intercept\"__chunk_len_10__f_agg_\"max\"  \\\n",
       "0                                                 18.952323                      \n",
       "1                                                  1.021608                      \n",
       "2                                                 19.405911                      \n",
       "3                                                 23.291787                      \n",
       "4                                                  2.309696                      \n",
       "\n",
       "variable  dim_0__agg_linear_trend__attr_\"intercept\"__chunk_len_10__f_agg_\"mean\"  \\\n",
       "0                                                  4.786800                       \n",
       "1                                                  0.068493                       \n",
       "2                                                  7.093272                       \n",
       "3                                                  7.266123                       \n",
       "4                                                  0.354539                       \n",
       "\n",
       "variable  dim_0__agg_linear_trend__attr_\"intercept\"__chunk_len_10__f_agg_\"min\"  \\\n",
       "0                                                 -1.586263                      \n",
       "1                                                 -0.493076                      \n",
       "2                                                 -1.529865                      \n",
       "3                                                 -0.715149                      \n",
       "4                                                 -0.770196                      \n",
       "\n",
       "variable  dim_0__agg_linear_trend__attr_\"intercept\"__chunk_len_10__f_agg_\"var\"  \\\n",
       "0                                                 44.834159                      \n",
       "1                                                  0.172195                      \n",
       "2                                                 54.095927                      \n",
       "3                                                 64.776848                      \n",
       "4                                                  0.975286                      \n",
       "\n",
       "variable  dim_0__agg_linear_trend__attr_\"intercept\"__chunk_len_50__f_agg_\"max\"  \\\n",
       "0                                                 28.002060                      \n",
       "1                                                  1.638200                      \n",
       "2                                                 29.210932                      \n",
       "3                                                 28.768162                      \n",
       "4                                                  3.041947                      \n",
       "\n",
       "variable  ...  dim_5__symmetry_looking__r_0.9500000000000001  \\\n",
       "0         ...                                            1.0   \n",
       "1         ...                                            1.0   \n",
       "2         ...                                            1.0   \n",
       "3         ...                                            1.0   \n",
       "4         ...                                            1.0   \n",
       "\n",
       "variable  dim_5__time_reversal_asymmetry_statistic__lag_1  \\\n",
       "0                                               -1.762020   \n",
       "1                                                0.019919   \n",
       "2                                              -41.246265   \n",
       "3                                              -32.549793   \n",
       "4                                               -0.025912   \n",
       "\n",
       "variable  dim_5__time_reversal_asymmetry_statistic__lag_2  \\\n",
       "0                                                4.734516   \n",
       "1                                               -0.005089   \n",
       "2                                               26.299019   \n",
       "3                                               16.940870   \n",
       "4                                                0.047528   \n",
       "\n",
       "variable  dim_5__time_reversal_asymmetry_statistic__lag_3  \\\n",
       "0                                               13.574916   \n",
       "1                                               -0.028410   \n",
       "2                                               59.697679   \n",
       "3                                               21.610465   \n",
       "4                                                0.317551   \n",
       "\n",
       "variable  dim_5__value_count__value_-1  dim_5__value_count__value_0  \\\n",
       "0                                  0.0                          0.0   \n",
       "1                                  0.0                          0.0   \n",
       "2                                  0.0                          0.0   \n",
       "3                                  0.0                          0.0   \n",
       "4                                  0.0                          0.0   \n",
       "\n",
       "variable  dim_5__value_count__value_1  dim_5__variance  \\\n",
       "0                                 0.0        12.647317   \n",
       "1                                 0.0         0.260379   \n",
       "2                                 0.0        21.230098   \n",
       "3                                 0.0        34.694581   \n",
       "4                                 0.0         1.089646   \n",
       "\n",
       "variable  dim_5__variance_larger_than_standard_deviation  \\\n",
       "0                                                    1.0   \n",
       "1                                                    0.0   \n",
       "2                                                    1.0   \n",
       "3                                                    1.0   \n",
       "4                                                    1.0   \n",
       "\n",
       "variable  dim_5__variation_coefficient  \n",
       "0                           -97.393541  \n",
       "1                             9.377847  \n",
       "2                            58.366824  \n",
       "3                            -5.073784  \n",
       "4                           184.873936  \n",
       "\n",
       "[5 rows x 4542 columns]"
      ]
     },
     "execution_count": 10,
     "metadata": {},
     "output_type": "execute_result"
    }
   ],
   "source": [
    "t = TSFreshFeatureExtractor(default_fc_parameters=\"efficient\", show_warnings=False)\n",
    "Xt = t.fit_transform(X_train)\n",
    "Xt.head()"
   ]
  }
 ],
 "metadata": {
  "kernelspec": {
   "display_name": "Python 3",
   "language": "python",
   "name": "python3"
  },
  "language_info": {
   "codemirror_mode": {
    "name": "ipython",
    "version": 3
   },
   "file_extension": ".py",
   "mimetype": "text/x-python",
   "name": "python",
   "nbconvert_exporter": "python",
   "pygments_lexer": "ipython3",
   "version": "3.7.7"
  }
 },
 "nbformat": 4,
 "nbformat_minor": 4
}
